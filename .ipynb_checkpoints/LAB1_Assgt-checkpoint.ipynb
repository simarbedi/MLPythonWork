{
 "cells": [
  {
   "cell_type": "markdown",
   "metadata": {},
   "source": [
    "### Ques1: Create a program that asks the user to enter their name and their age. Print out a message addressed to them that tells them the year that they will turn 100 years old. "
   ]
  },
  {
   "cell_type": "code",
   "execution_count": 1,
   "metadata": {},
   "outputs": [
    {
     "name": "stdout",
     "output_type": "stream",
     "text": [
      "Enter your name \n",
      "Simarpreet Singh Bedi\n",
      "Enter your age \n",
      "22\n",
      "Welcome Simarpreet Singh Bedi! You are 22 years old. You will turn 100 years old in 2099.\n"
     ]
    }
   ],
   "source": [
    "from datetime import datetime\n",
    "name = input('Enter your name \\n')\n",
    "age = int(input('Enter your age \\n'))\n",
    "year = int((100-age) + datetime.now().year)\n",
    "print ('Welcome %s! You are %s years old. You will turn 100 years old in %s.' % (name, age, year))"
   ]
  },
  {
   "cell_type": "markdown",
   "metadata": {},
   "source": [
    "### Extras: i) Add on to the previous program by asking the user for another number and printing out that many copies of the previous message. "
   ]
  },
  {
   "cell_type": "code",
   "execution_count": 5,
   "metadata": {},
   "outputs": [
    {
     "name": "stdout",
     "output_type": "stream",
     "text": [
      "How many copies of the above message do you want?\n",
      "3\n",
      "Welcome Simarpreet Singh Bedi! You are 22 years old. You will turn 100 years old in 2099.Welcome Simarpreet Singh Bedi! You are 22 years old. You will turn 100 years old in 2099.Welcome Simarpreet Singh Bedi! You are 22 years old. You will turn 100 years old in 2099.\n"
     ]
    }
   ],
   "source": [
    "copies = int(input('How many copies of the above message do you want?\\n'))\n",
    "msg = (\"Welcome %s! You are %s years old. You will turn 100 years old in %s.\" % (name, age, year))\n",
    "print(msg * copies)"
   ]
  },
  {
   "cell_type": "markdown",
   "metadata": {},
   "source": [
    "### Extras ii) Print out the copies of above message on seperate lines."
   ]
  },
  {
   "cell_type": "code",
   "execution_count": 6,
   "metadata": {},
   "outputs": [
    {
     "name": "stdout",
     "output_type": "stream",
     "text": [
      "How many copies of the above message do you want?\n",
      "3\n",
      "Welcome Simarpreet Singh Bedi! You are 22 years old. You will turn 100 years old in 2099. \n",
      "Welcome Simarpreet Singh Bedi! You are 22 years old. You will turn 100 years old in 2099. \n",
      "Welcome Simarpreet Singh Bedi! You are 22 years old. You will turn 100 years old in 2099. \n",
      "\n"
     ]
    }
   ],
   "source": [
    "copies = int(input('How many copies of the above message do you want?\\n'))\n",
    "msg = (\"Welcome %s! You are %s years old. You will turn 100 years old in %s. \\n\" % (name, age, year))\n",
    "print(msg * copies)"
   ]
  },
  {
   "cell_type": "markdown",
   "metadata": {},
   "source": [
    "### Ques2: Take a list, say for example this one:\n",
    "### a = [1,1,2,3,5,8,13,21,34,55,89]\n",
    "### and write a program that prints out all the elements of the list that are less than 5."
   ]
  },
  {
   "cell_type": "code",
   "execution_count": 7,
   "metadata": {},
   "outputs": [
    {
     "name": "stdout",
     "output_type": "stream",
     "text": [
      "1\n",
      "1\n",
      "2\n",
      "3\n"
     ]
    }
   ],
   "source": [
    "a = [1, 1, 2, 3, 5, 8, 13, 21, 34, 55, 89]\n",
    "for item in a:\n",
    "    if item < 5:\n",
    "        print(item)"
   ]
  },
  {
   "cell_type": "markdown",
   "metadata": {},
   "source": [
    "### Extras i) Instead of printing the elements one by one, make a new list that has all the elements less than 5 from this list and print out this new list. "
   ]
  },
  {
   "cell_type": "code",
   "execution_count": null,
   "metadata": {},
   "outputs": [],
   "source": []
  },
  {
   "cell_type": "code",
   "execution_count": 8,
   "metadata": {},
   "outputs": [
    {
     "name": "stdout",
     "output_type": "stream",
     "text": [
      "[1, 1, 2, 3]\n"
     ]
    }
   ],
   "source": [
    "actual_list = [1, 1, 2, 3, 5, 8, 13, 21, 34, 55, 89]\n",
    "\n",
    "new_list = []\n",
    "\n",
    "for item in actual_list:\n",
    "    if item < 5:\n",
    "        new_list.append(item)\n",
    "print(new_list)"
   ]
  },
  {
   "cell_type": "markdown",
   "metadata": {},
   "source": [
    "### write this using one line of code "
   ]
  },
  {
   "cell_type": "code",
   "execution_count": 9,
   "metadata": {},
   "outputs": [
    {
     "name": "stdout",
     "output_type": "stream",
     "text": [
      "[1, 1, 2, 3]\n"
     ]
    }
   ],
   "source": [
    "actual_list = [1, 1, 2, 3, 5, 8, 13, 21, 34, 55, 89]\n",
    "\n",
    "new_list = []\n",
    "[new_list.append(i) for i in actual_list if i < 5]\n",
    "print(new_list)"
   ]
  },
  {
   "cell_type": "markdown",
   "metadata": {},
   "source": [
    "### Extras ii) Ask a user for a number and return a list that contains only elements from the original list that are smaller than the number entered by the user. "
   ]
  },
  {
   "cell_type": "code",
   "execution_count": 10,
   "metadata": {},
   "outputs": [
    {
     "name": "stdout",
     "output_type": "stream",
     "text": [
      "Enter a number \n",
      "30\n",
      "Numbers smaller than 30 are\n",
      "[1, 1, 2, 3, 5, 8, 13, 21]\n"
     ]
    }
   ],
   "source": [
    "actual_list = [1, 1, 2, 3, 5, 8, 13, 21, 34, 55, 89]\n",
    "user_list = []\n",
    "num = int(input('Enter a number \\n'))\n",
    "for item in actual_list:\n",
    "    if item < num:\n",
    "        user_list.append(item)\n",
    "          \n",
    "print ('Numbers smaller than %s are'  % (num))\n",
    "print(user_list)"
   ]
  },
  {
   "cell_type": "markdown",
   "metadata": {},
   "source": [
    "### Ques3:  Write a program that asks the user how many Fibonacci numbers to generate and then generates them. Take this opportunity to think about how you can use functions. Make sure to ask the user to enter the number of numbers in the sequence to generate.\n",
    "\n",
    "### (Hint: The Fibonacci seqence is a sequence of numbers where the next number in the sequence is the sum of the previous two numbers in the sequence. The sequence looks like this: 1, 1, 2, 3, 5, 8, 13, ...)"
   ]
  },
  {
   "cell_type": "code",
   "execution_count": 11,
   "metadata": {},
   "outputs": [
    {
     "name": "stdout",
     "output_type": "stream",
     "text": [
      "How many fibnocci numbers to generate?:10\n",
      "[1, 1, 2, 3, 5, 8, 13, 21, 34, 55]\n"
     ]
    }
   ],
   "source": [
    "def fibonacci():\n",
    "    num = int(input(\"How many fibnocci numbers to generate?:\"))\n",
    "    i = 1\n",
    "    if num == 0:\n",
    "        fib = []\n",
    "    elif num == 1:\n",
    "        fib = [1]\n",
    "    elif num == 2:\n",
    "        fib = [1,1]\n",
    "    elif num > 2:\n",
    "        fib = [1,1]\n",
    "        while i < (num - 1):\n",
    "            fib.append(fib[i] + fib[i-1])\n",
    "            i += 1\n",
    "    return fib\n",
    "print(fibonacci())"
   ]
  },
  {
   "cell_type": "markdown",
   "metadata": {},
   "source": [
    "### Ques 4: Write a program (function!) that takes a list and returns a new list that contains all the elements of the first list minus all the duplicates.\n",
    "\n",
    "### Extras: Write two different functions to do this - one using a loop and constructing a list, and another using sets."
   ]
  },
  {
   "cell_type": "code",
   "execution_count": 12,
   "metadata": {},
   "outputs": [
    {
     "name": "stdout",
     "output_type": "stream",
     "text": [
      "['Hello', 'Hiii', 'Okay', 'Byee', 'Hey!', 'See yaa!', 'Hey']\n"
     ]
    }
   ],
   "source": [
    "#using for loop & lists \n",
    "\n",
    "orig_list = ['Hello', 'Hiii', 'Okay', 'Byee', 'Hey!', 'See yaa!', 'Hello', 'Byee', 'Hey']\n",
    "new_list =[]\n",
    "\n",
    "def doing_Something(orig_list):\n",
    "    for i in orig_list:\n",
    "        if i not in new_list:\n",
    "            new_list.append(i)\n",
    "            \n",
    "    return new_list\n",
    "\n",
    "print(doing_Something(orig_list))\n",
    "    \n",
    "   "
   ]
  },
  {
   "cell_type": "code",
   "execution_count": 13,
   "metadata": {},
   "outputs": [
    {
     "name": "stdout",
     "output_type": "stream",
     "text": [
      "['Hiii', 'Hey!', 'See yaa!', 'Okay', 'Hello', 'Byee', 'Hey']\n"
     ]
    }
   ],
   "source": [
    "#using sets \n",
    "orig_list = ['Hello', 'Hiii', 'Okay', 'Byee', 'Hey!', 'See yaa!', 'Hello', 'Byee', 'Hey']\n",
    "print(list(set(orig_list)))"
   ]
  },
  {
   "cell_type": "markdown",
   "metadata": {},
   "source": [
    "### Ques 5: Ask the user for a number and determine whether the number is prime or not. (For those who have forgotten, a prime number is a number that has no divisors.). Use functions."
   ]
  },
  {
   "cell_type": "code",
   "execution_count": 16,
   "metadata": {},
   "outputs": [
    {
     "name": "stdout",
     "output_type": "stream",
     "text": [
      "Enter a number \n",
      "47\n",
      "47 is a prime number\n"
     ]
    }
   ],
   "source": [
    "def Prime(num):\n",
    "    if num > 1:  \n",
    "        for i in range(2,num//2):  \n",
    "            if (num % i) == 0:  \n",
    "                print(num,\"is not a prime number\")  \n",
    "                print(i,\"times\",num//i,\"is\",num) \n",
    "                break\n",
    "        else:  \n",
    "            print(num,\"is a prime number\")  \n",
    "    else:\n",
    "        print(\"number should be greater than 1\")\n",
    "\n",
    "num = int(input('Enter a number \\n'))\n",
    "Prime(int(num))"
   ]
  },
  {
   "cell_type": "code",
   "execution_count": null,
   "metadata": {},
   "outputs": [],
   "source": []
  },
  {
   "cell_type": "code",
   "execution_count": null,
   "metadata": {},
   "outputs": [],
   "source": []
  }
 ],
 "metadata": {
  "kernelspec": {
   "display_name": "Python 3",
   "language": "python",
   "name": "python3"
  },
  "language_info": {
   "codemirror_mode": {
    "name": "ipython",
    "version": 3
   },
   "file_extension": ".py",
   "mimetype": "text/x-python",
   "name": "python",
   "nbconvert_exporter": "python",
   "pygments_lexer": "ipython3",
   "version": "3.7.3"
  }
 },
 "nbformat": 4,
 "nbformat_minor": 5
}
